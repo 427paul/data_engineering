{
  "nbformat": 4,
  "nbformat_minor": 0,
  "metadata": {
    "colab": {
      "provenance": []
    },
    "kernelspec": {
      "name": "python3",
      "display_name": "Python 3"
    },
    "language_info": {
      "name": "python"
    }
  },
  "cells": [
    {
      "cell_type": "code",
      "execution_count": 1,
      "metadata": {
        "colab": {
          "base_uri": "https://localhost:8080/"
        },
        "id": "Vw56F-kp5fyi",
        "outputId": "c7a015c3-012c-4b63-aa63-62e5dea72e3a"
      },
      "outputs": [
        {
          "output_type": "stream",
          "name": "stdout",
          "text": [
            "Collecting bs4\n",
            "  Downloading bs4-0.0.2-py2.py3-none-any.whl.metadata (411 bytes)\n",
            "Requirement already satisfied: beautifulsoup4 in /usr/local/lib/python3.12/dist-packages (from bs4) (4.13.5)\n",
            "Requirement already satisfied: soupsieve>1.2 in /usr/local/lib/python3.12/dist-packages (from beautifulsoup4->bs4) (2.8)\n",
            "Requirement already satisfied: typing-extensions>=4.0.0 in /usr/local/lib/python3.12/dist-packages (from beautifulsoup4->bs4) (4.15.0)\n",
            "Downloading bs4-0.0.2-py2.py3-none-any.whl (1.2 kB)\n",
            "Installing collected packages: bs4\n",
            "Successfully installed bs4-0.0.2\n"
          ]
        }
      ],
      "source": [
        "%pip install bs4"
      ]
    },
    {
      "cell_type": "code",
      "source": [
        "%pip install beautifulsoup4"
      ],
      "metadata": {
        "colab": {
          "base_uri": "https://localhost:8080/"
        },
        "id": "OIvZ054o5k2q",
        "outputId": "02111c42-eecf-4165-da99-1dbbf06123a0"
      },
      "execution_count": 2,
      "outputs": [
        {
          "output_type": "stream",
          "name": "stdout",
          "text": [
            "Requirement already satisfied: beautifulsoup4 in /usr/local/lib/python3.12/dist-packages (4.13.5)\n",
            "Requirement already satisfied: soupsieve>1.2 in /usr/local/lib/python3.12/dist-packages (from beautifulsoup4) (2.8)\n",
            "Requirement already satisfied: typing-extensions>=4.0.0 in /usr/local/lib/python3.12/dist-packages (from beautifulsoup4) (4.15.0)\n"
          ]
        }
      ]
    },
    {
      "cell_type": "markdown",
      "source": [
        "#BeautifulSoup 객체 만들기"
      ],
      "metadata": {
        "id": "_vv1KEMH5vm-"
      }
    },
    {
      "cell_type": "code",
      "source": [
        "import requests"
      ],
      "metadata": {
        "id": "4lQ0hLp850_e"
      },
      "execution_count": 3,
      "outputs": []
    },
    {
      "cell_type": "code",
      "source": [
        "res = requests.get('http://www.example.com')"
      ],
      "metadata": {
        "id": "DcUlL5J35qdY"
      },
      "execution_count": 5,
      "outputs": []
    },
    {
      "cell_type": "code",
      "source": [
        "from bs4 import BeautifulSoup"
      ],
      "metadata": {
        "id": "qmddBVo752ey"
      },
      "execution_count": 6,
      "outputs": []
    },
    {
      "cell_type": "code",
      "source": [
        "###분석된 html코드 확인\n",
        "soup = BeautifulSoup(res.text,\"html.parser\")"
      ],
      "metadata": {
        "id": "EZXAT31o6CPB"
      },
      "execution_count": 7,
      "outputs": []
    },
    {
      "cell_type": "code",
      "source": [
        "soup"
      ],
      "metadata": {
        "colab": {
          "base_uri": "https://localhost:8080/"
        },
        "id": "OaiF8QEF6QIf",
        "outputId": "f995a0d3-530c-4e14-f09f-c2d4cc37c35e"
      },
      "execution_count": 8,
      "outputs": [
        {
          "output_type": "execute_result",
          "data": {
            "text/plain": [
              "<!DOCTYPE html>\n",
              "\n",
              "<html>\n",
              "<head>\n",
              "<title>Example Domain</title>\n",
              "<meta charset=\"utf-8\"/>\n",
              "<meta content=\"text/html; charset=utf-8\" http-equiv=\"Content-type\"/>\n",
              "<meta content=\"width=device-width, initial-scale=1\" name=\"viewport\"/>\n",
              "<style type=\"text/css\">\n",
              "    body {\n",
              "        background-color: #f0f0f2;\n",
              "        margin: 0;\n",
              "        padding: 0;\n",
              "        font-family: -apple-system, system-ui, BlinkMacSystemFont, \"Segoe UI\", \"Open Sans\", \"Helvetica Neue\", Helvetica, Arial, sans-serif;\n",
              "        \n",
              "    }\n",
              "    div {\n",
              "        width: 600px;\n",
              "        margin: 5em auto;\n",
              "        padding: 2em;\n",
              "        background-color: #fdfdff;\n",
              "        border-radius: 0.5em;\n",
              "        box-shadow: 2px 3px 7px 2px rgba(0,0,0,0.02);\n",
              "    }\n",
              "    a:link, a:visited {\n",
              "        color: #38488f;\n",
              "        text-decoration: none;\n",
              "    }\n",
              "    @media (max-width: 700px) {\n",
              "        div {\n",
              "            margin: 0 auto;\n",
              "            width: auto;\n",
              "        }\n",
              "    }\n",
              "    </style>\n",
              "</head>\n",
              "<body>\n",
              "<div>\n",
              "<h1>Example Domain</h1>\n",
              "<p>This domain is for use in illustrative examples in documents. You may use this\n",
              "    domain in literature without prior coordination or asking for permission.</p>\n",
              "<p><a href=\"https://www.iana.org/domains/example\">More information...</a></p>\n",
              "</div>\n",
              "</body>\n",
              "</html>"
            ]
          },
          "metadata": {},
          "execution_count": 8
        }
      ]
    },
    {
      "cell_type": "code",
      "source": [
        "soup.title"
      ],
      "metadata": {
        "colab": {
          "base_uri": "https://localhost:8080/"
        },
        "id": "2FxQYDnH6Quv",
        "outputId": "40858137-30b5-4a78-8021-657d7d963783"
      },
      "execution_count": 9,
      "outputs": [
        {
          "output_type": "execute_result",
          "data": {
            "text/plain": [
              "<title>Example Domain</title>"
            ]
          },
          "metadata": {},
          "execution_count": 9
        }
      ]
    },
    {
      "cell_type": "code",
      "source": [
        "soup.body"
      ],
      "metadata": {
        "colab": {
          "base_uri": "https://localhost:8080/"
        },
        "id": "da4oYnXY6jhN",
        "outputId": "87509cdc-8c0d-4acf-c116-e9bec093624d"
      },
      "execution_count": 10,
      "outputs": [
        {
          "output_type": "execute_result",
          "data": {
            "text/plain": [
              "<body>\n",
              "<div>\n",
              "<h1>Example Domain</h1>\n",
              "<p>This domain is for use in illustrative examples in documents. You may use this\n",
              "    domain in literature without prior coordination or asking for permission.</p>\n",
              "<p><a href=\"https://www.iana.org/domains/example\">More information...</a></p>\n",
              "</div>\n",
              "</body>"
            ]
          },
          "metadata": {},
          "execution_count": 10
        }
      ]
    },
    {
      "cell_type": "code",
      "source": [
        "soup.head"
      ],
      "metadata": {
        "colab": {
          "base_uri": "https://localhost:8080/"
        },
        "id": "A8oIjv5G6kZC",
        "outputId": "57ef25dd-51f2-4494-aae6-907e3fc7b261"
      },
      "execution_count": 11,
      "outputs": [
        {
          "output_type": "execute_result",
          "data": {
            "text/plain": [
              "<head>\n",
              "<title>Example Domain</title>\n",
              "<meta charset=\"utf-8\"/>\n",
              "<meta content=\"text/html; charset=utf-8\" http-equiv=\"Content-type\"/>\n",
              "<meta content=\"width=device-width, initial-scale=1\" name=\"viewport\"/>\n",
              "<style type=\"text/css\">\n",
              "    body {\n",
              "        background-color: #f0f0f2;\n",
              "        margin: 0;\n",
              "        padding: 0;\n",
              "        font-family: -apple-system, system-ui, BlinkMacSystemFont, \"Segoe UI\", \"Open Sans\", \"Helvetica Neue\", Helvetica, Arial, sans-serif;\n",
              "        \n",
              "    }\n",
              "    div {\n",
              "        width: 600px;\n",
              "        margin: 5em auto;\n",
              "        padding: 2em;\n",
              "        background-color: #fdfdff;\n",
              "        border-radius: 0.5em;\n",
              "        box-shadow: 2px 3px 7px 2px rgba(0,0,0,0.02);\n",
              "    }\n",
              "    a:link, a:visited {\n",
              "        color: #38488f;\n",
              "        text-decoration: none;\n",
              "    }\n",
              "    @media (max-width: 700px) {\n",
              "        div {\n",
              "            margin: 0 auto;\n",
              "            width: auto;\n",
              "        }\n",
              "    }\n",
              "    </style>\n",
              "</head>"
            ]
          },
          "metadata": {},
          "execution_count": 11
        }
      ]
    },
    {
      "cell_type": "code",
      "source": [
        "###<h1> 태그 요소 하나만\n",
        "h1 = soup.find(\"h1\")"
      ],
      "metadata": {
        "id": "mf01aL796ljT"
      },
      "execution_count": 15,
      "outputs": []
    },
    {
      "cell_type": "code",
      "source": [
        "### 태그 이름 불러오기\n",
        "h1.name"
      ],
      "metadata": {
        "colab": {
          "base_uri": "https://localhost:8080/",
          "height": 35
        },
        "id": "ycD87jL_7AtV",
        "outputId": "671d8ba4-1392-446e-ffe8-5a25abce55ef"
      },
      "execution_count": 17,
      "outputs": [
        {
          "output_type": "execute_result",
          "data": {
            "text/plain": [
              "'h1'"
            ],
            "application/vnd.google.colaboratory.intrinsic+json": {
              "type": "string"
            }
          },
          "metadata": {},
          "execution_count": 17
        }
      ]
    },
    {
      "cell_type": "code",
      "source": [
        "###<h1> 태그 요소 전부\n",
        "soup.find_all(\"h1\")"
      ],
      "metadata": {
        "colab": {
          "base_uri": "https://localhost:8080/"
        },
        "id": "ngle7Txv6rC8",
        "outputId": "a147c8a3-cb04-4539-b026-865e211ec328"
      },
      "execution_count": 13,
      "outputs": [
        {
          "output_type": "execute_result",
          "data": {
            "text/plain": [
              "[<h1>Example Domain</h1>]"
            ]
          },
          "metadata": {},
          "execution_count": 13
        }
      ]
    },
    {
      "cell_type": "code",
      "source": [
        "###<p> 태그 요소 전부\n",
        "soup.find_all(\"p\")"
      ],
      "metadata": {
        "colab": {
          "base_uri": "https://localhost:8080/"
        },
        "id": "c_To_bc06xHd",
        "outputId": "5d1fcb64-d06f-479b-83a4-10ab6b0c8b83"
      },
      "execution_count": 14,
      "outputs": [
        {
          "output_type": "execute_result",
          "data": {
            "text/plain": [
              "[<p>This domain is for use in illustrative examples in documents. You may use this\n",
              "     domain in literature without prior coordination or asking for permission.</p>,\n",
              " <p><a href=\"https://www.iana.org/domains/example\">More information...</a></p>]"
            ]
          },
          "metadata": {},
          "execution_count": 14
        }
      ]
    },
    {
      "cell_type": "markdown",
      "source": [
        "#사이트에서 원하는 정보만 불러오기\n",
        "https://books.toscrape.com/catalogue/category/books/travel_2/index.html"
      ],
      "metadata": {
        "id": "rHxEhF-j7Ixy"
      }
    },
    {
      "cell_type": "code",
      "source": [
        "import requests\n",
        "from bs4 import BeautifulSoup"
      ],
      "metadata": {
        "id": "cDPlbE856_Te"
      },
      "execution_count": 18,
      "outputs": []
    },
    {
      "cell_type": "code",
      "source": [
        "res = requests.get(\"https://books.toscrape.com/catalogue/category/books/travel_2/index.html\")\n",
        "soup = BeautifulSoup(res.text, \"html.parser\")"
      ],
      "metadata": {
        "id": "1reKnVbA7mLJ"
      },
      "execution_count": 19,
      "outputs": []
    },
    {
      "cell_type": "code",
      "source": [
        "###<h3> 태그 하나\n",
        "book = soup.find(\"h3\")"
      ],
      "metadata": {
        "id": "ahTyEwa17wHj"
      },
      "execution_count": 24,
      "outputs": []
    },
    {
      "cell_type": "code",
      "source": [
        "###<h3> 태그 모두\n",
        "h3_results = soup.find_all(\"h3\")\n",
        "print(len(h3_results))#총 11개"
      ],
      "metadata": {
        "colab": {
          "base_uri": "https://localhost:8080/"
        },
        "id": "M3DSuPkc72LC",
        "outputId": "c60186ef-3023-4fdb-c898-43c1c4fca341"
      },
      "execution_count": 22,
      "outputs": [
        {
          "output_type": "stream",
          "name": "stdout",
          "text": [
            "11\n"
          ]
        }
      ]
    },
    {
      "cell_type": "code",
      "source": [
        "###각각 확인 가능\n",
        "h3_results[0]"
      ],
      "metadata": {
        "colab": {
          "base_uri": "https://localhost:8080/"
        },
        "id": "-Uvm8vVD75cm",
        "outputId": "aa4bf8dd-399f-4340-bdd7-3ccc0cf4d922"
      },
      "execution_count": 23,
      "outputs": [
        {
          "output_type": "execute_result",
          "data": {
            "text/plain": [
              "<h3><a href=\"../../../its-only-the-himalayas_981/index.html\" title=\"It's Only the Himalayas\">It's Only the Himalayas</a></h3>"
            ]
          },
          "metadata": {},
          "execution_count": 23
        }
      ]
    },
    {
      "cell_type": "code",
      "source": [
        "### book_list에서 원하는 책 제목(title)만 추출\n",
        "book.a.text"
      ],
      "metadata": {
        "colab": {
          "base_uri": "https://localhost:8080/",
          "height": 35
        },
        "id": "SAcYM41I8Oxj",
        "outputId": "96174647-970a-4830-d658-759ed2b6737e"
      },
      "execution_count": 25,
      "outputs": [
        {
          "output_type": "execute_result",
          "data": {
            "text/plain": [
              "\"It's Only the Himalayas\""
            ],
            "application/vnd.google.colaboratory.intrinsic+json": {
              "type": "string"
            }
          },
          "metadata": {},
          "execution_count": 25
        }
      ]
    },
    {
      "cell_type": "code",
      "source": [
        "for i in range(len(h3_results)):\n",
        "    print(h3_results[i].a.text)"
      ],
      "metadata": {
        "colab": {
          "base_uri": "https://localhost:8080/"
        },
        "id": "kCPzBApA8aiK",
        "outputId": "baf66ceb-de44-45f6-942e-5d6f76af2d5e"
      },
      "execution_count": 26,
      "outputs": [
        {
          "output_type": "stream",
          "name": "stdout",
          "text": [
            "It's Only the Himalayas\n",
            "Full Moon over Noahâs ...\n",
            "See America: A Celebration ...\n",
            "Vagabonding: An Uncommon Guide ...\n",
            "Under the Tuscan Sun\n",
            "A Summer In Europe\n",
            "The Great Railway Bazaar\n",
            "A Year in Provence ...\n",
            "The Road to Little ...\n",
            "Neither Here nor There: ...\n",
            "1,000 Places to See ...\n"
          ]
        }
      ]
    },
    {
      "cell_type": "code",
      "source": [
        "for i in h3_results:\n",
        "  print(i.a.text)"
      ],
      "metadata": {
        "colab": {
          "base_uri": "https://localhost:8080/"
        },
        "id": "uoGCAzKc8eJ-",
        "outputId": "696cd1cd-028f-4e65-c337-4c45afe5266d"
      },
      "execution_count": 27,
      "outputs": [
        {
          "output_type": "stream",
          "name": "stdout",
          "text": [
            "It's Only the Himalayas\n",
            "Full Moon over Noahâs ...\n",
            "See America: A Celebration ...\n",
            "Vagabonding: An Uncommon Guide ...\n",
            "Under the Tuscan Sun\n",
            "A Summer In Europe\n",
            "The Great Railway Bazaar\n",
            "A Year in Provence ...\n",
            "The Road to Little ...\n",
            "Neither Here nor There: ...\n",
            "1,000 Places to See ...\n"
          ]
        }
      ]
    },
    {
      "cell_type": "markdown",
      "source": [
        "#HTML의 Locator로 원하는 요소 찾기"
      ],
      "metadata": {
        "id": "dRzSRP5e87Vc"
      }
    },
    {
      "cell_type": "code",
      "source": [
        "import requests\n",
        "from bs4 import BeautifulSoup"
      ],
      "metadata": {
        "id": "oRMXSQYi80pj"
      },
      "execution_count": null,
      "outputs": []
    },
    {
      "cell_type": "code",
      "source": [
        "res = requests.get(\"https://books.toscrape.com/catalogue/category/books/travel_2/index.html\")\n",
        "soup = BeautifulSoup(res.text, \"html.parser\")"
      ],
      "metadata": {
        "id": "L-0oq0Z3_2l0"
      },
      "execution_count": 28,
      "outputs": []
    },
    {
      "cell_type": "code",
      "source": [
        "#class\n",
        "price = soup.find(\"div\", 'product_price')\n",
        "#id면\n",
        "#price = soup.find(\"div\", id = \"product_price\")\n",
        "#처음부터 구체적으로 작성하기\n",
        "#soup.find(\"li\", \"question-list-item\").find(\"div\",\"question\").find(\"div\",\"top\").h4.text"
      ],
      "metadata": {
        "id": "ZJpzAh_UBP4i"
      },
      "execution_count": 29,
      "outputs": []
    },
    {
      "cell_type": "code",
      "source": [
        "price.p.text\n",
        "#price.p.text.strip()#불필요한 공백 지우기"
      ],
      "metadata": {
        "colab": {
          "base_uri": "https://localhost:8080/",
          "height": 35
        },
        "id": "axAA9PZSBo-r",
        "outputId": "f1150a45-6b4b-4068-cee5-196eff08e2cc"
      },
      "execution_count": 31,
      "outputs": [
        {
          "output_type": "execute_result",
          "data": {
            "text/plain": [
              "'Â£45.17'"
            ],
            "application/vnd.google.colaboratory.intrinsic+json": {
              "type": "string"
            }
          },
          "metadata": {},
          "execution_count": 31
        }
      ]
    },
    {
      "cell_type": "code",
      "source": [
        "price_results = soup.find_all(\"div\", 'product_price')"
      ],
      "metadata": {
        "id": "GsPJTUN7Bpb5"
      },
      "execution_count": 32,
      "outputs": []
    },
    {
      "cell_type": "code",
      "source": [
        "for i in price_results:\n",
        "  print(i.p.text)"
      ],
      "metadata": {
        "colab": {
          "base_uri": "https://localhost:8080/"
        },
        "id": "jgVSxtRuB2Om",
        "outputId": "b2b5ac91-2b68-4717-e6a7-f4d1d9aff88e"
      },
      "execution_count": 33,
      "outputs": [
        {
          "output_type": "stream",
          "name": "stdout",
          "text": [
            "Â£45.17\n",
            "Â£49.43\n",
            "Â£48.87\n",
            "Â£36.94\n",
            "Â£37.33\n",
            "Â£44.34\n",
            "Â£30.54\n",
            "Â£56.88\n",
            "Â£23.21\n",
            "Â£38.95\n",
            "Â£26.08\n"
          ]
        }
      ]
    },
    {
      "cell_type": "markdown",
      "source": [
        "##제주도 관련 블로그 글 제목, 업로드 날짜, 내용 불러오기"
      ],
      "metadata": {
        "id": "A5JdJGtIEemH"
      }
    },
    {
      "cell_type": "code",
      "source": [
        "import requests\n",
        "from bs4 import BeautifulSoup as bs"
      ],
      "metadata": {
        "id": "Fmr0T-O5EqgO"
      },
      "execution_count": null,
      "outputs": []
    },
    {
      "cell_type": "code",
      "source": [
        "keyword = '제주도'\n",
        "url = f'https://search.naver.com/search.naver?ssc=tab.blog.all&sm=tab_jum&query={keyword}'#주소\n",
        "res = requests.get(url)#url 주소에서 정보 가져옴\n",
        "soup = bs(res.text, 'html.parser')#정보에서 text정보 parsing"
      ],
      "metadata": {
        "id": "cFJiK6kIETle"
      },
      "execution_count": null,
      "outputs": []
    },
    {
      "cell_type": "code",
      "source": [
        "soup.find_all('a', class_ = 'title_link')[0]['href']"
      ],
      "metadata": {
        "id": "b6u5UrA-EVMG"
      },
      "execution_count": null,
      "outputs": []
    },
    {
      "cell_type": "code",
      "source": [
        "soup.find_all('a', class_ = 'title_link')[0].text"
      ],
      "metadata": {
        "id": "oqca2ny2EXwg"
      },
      "execution_count": null,
      "outputs": []
    },
    {
      "cell_type": "code",
      "source": [
        "title = [i.text for i in soup.find_all('a', class_ = 'title_link')]\n",
        "date = [i.text for i in soup.find_all('span', class_='sub')]\n",
        "content = [i.text for i in soup.find_all('a',class_ = 'dsc_link')]"
      ],
      "metadata": {
        "id": "IYFm9cJcEY4_"
      },
      "execution_count": null,
      "outputs": []
    },
    {
      "cell_type": "markdown",
      "source": [
        "#Pagination"
      ],
      "metadata": {
        "id": "HWDEkmsmDVeW"
      }
    },
    {
      "cell_type": "code",
      "source": [
        "#user_agent\n",
        "user_agent = {\"User-Agent\": \"Mozilla/5.0 (Macintosh; Intel Mac OS X 10_15_4) AppleWebKit/537.36 (KHTML, like Gecko) Chrome/83.0.4103.97 Safari/537.36\"}"
      ],
      "metadata": {
        "id": "eNwV3uQGD3IX"
      },
      "execution_count": null,
      "outputs": []
    },
    {
      "cell_type": "code",
      "source": [
        "import time\n",
        "for i in range(1,6):\n",
        "  res = requests.get(\"https://hashcode.co.kr/?page={}\".format(i),user_agent)\n",
        "  soup = BeautifulSoup(res.text, \"html.parser\")\n",
        "  questions = soup.find_all(\"li\", \"question-list-item\")\n",
        "  for question in questions:\n",
        "    print(question.find(\"div\",\"question\").find(\"div\",\"top\").h4.text)\n",
        "  time.sleep(0.5)#과도한 요청 방지를 위한 시간차"
      ],
      "metadata": {
        "id": "e51CsBPxB40g"
      },
      "execution_count": null,
      "outputs": []
    }
  ]
}